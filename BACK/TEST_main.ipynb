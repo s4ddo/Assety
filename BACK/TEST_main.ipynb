{
 "cells": [
  {
   "cell_type": "code",
   "execution_count": null,
   "id": "90244023",
   "metadata": {},
   "outputs": [
    {
     "name": "stderr",
     "output_type": "stream",
     "text": [
      "/home/s4ddo/Desktop/Projects/Assety/BACK/assety_main.py:9: LangChainDeprecationWarning: As of langchain-core 0.3.0, LangChain uses pydantic v2 internally. The langchain_core.pydantic_v1 module was a compatibility shim for pydantic v1, and should no longer be used. Please update the code to import from Pydantic directly.\n",
      "\n",
      "For example, replace imports like: `from langchain_core.pydantic_v1 import BaseModel`\n",
      "with: `from pydantic import BaseModel`\n",
      "or the v1 compatibility namespace if you are working in a code base that has not been fully upgraded to pydantic 2 yet. \tfrom pydantic.v1 import BaseModel\n",
      "\n",
      "  from node_main_llm import MainLLM\n",
      "WARNING: All log messages before absl::InitializeLog() is called are written to STDERR\n",
      "E0000 00:00:1758356294.706405   13136 alts_credentials.cc:93] ALTS creds ignored. Not running on GCP and untrusted ALTS is not enabled.\n"
     ]
    },
    {
     "name": "stdout",
     "output_type": "stream",
     "text": [
      "'USER: Yo'\n"
     ]
    },
    {
     "name": "stderr",
     "output_type": "stream",
     "text": [
      "E0000 00:00:1758356295.438430   13136 alts_credentials.cc:93] ALTS creds ignored. Not running on GCP and untrusted ALTS is not enabled.\n"
     ]
    },
    {
     "name": "stdout",
     "output_type": "stream",
     "text": [
      "--- Output from node: orchestrator ---\n",
      "{'sub_tasks': [{'query': 'a friendly greeting', 'tool_name': 'code_generator'}]}\n",
      "\n",
      "\n",
      "--- Output from node: code_generator ---\n",
      "{'worker_outputs': ['Dummy code for: a friendly greeting']}\n",
      "\n",
      "\n",
      "--- Output from node: synthesizer ---\n",
      "{'final_response': 'Dummy code for: a friendly greeting',\n",
      " 'messages': [AIMessage(content=\"Mrow? Oh, hello there... *stretches slowly* You woke me up... but that's okay. What can I help you with today, nya? *yawn*\", additional_kwargs={}, response_metadata={'prompt_feedback': {'block_reason': 0, 'safety_ratings': []}, 'finish_reason': 'STOP', 'model_name': 'gemini-2.5-flash', 'safety_ratings': []}, id='run--049794ae-5362-4676-83c9-8077f0e39e4d-0', usage_metadata={'input_tokens': 170, 'output_tokens': 77, 'total_tokens': 247, 'input_token_details': {'cache_read': 0}, 'output_token_details': {'reasoning': 38}})],\n",
      " 'worker_outputs': []}\n",
      "\n",
      "\n",
      "--- Final Assembled Response ---\n",
      "Mrow? Oh, hello there... *stretches slowly* You woke me up... but that's okay. What can I help you with today, nya? *yawn*\n",
      "'USER: Can you make me a mesh '\n"
     ]
    },
    {
     "name": "stderr",
     "output_type": "stream",
     "text": [
      "E0000 00:00:1758356305.916694   13136 alts_credentials.cc:93] ALTS creds ignored. Not running on GCP and untrusted ALTS is not enabled.\n"
     ]
    },
    {
     "name": "stdout",
     "output_type": "stream",
     "text": [
      "--- Output from node: orchestrator ---\n",
      "{'sub_tasks': [{'query': 'a mesh', 'tool_name': '3d_model_generator'}]}\n",
      "\n",
      "\n",
      "--- Output from node: 3d_model_generator ---\n",
      "{'worker_outputs': [\"meshfile='sample_mesh.glb'\"]}\n",
      "\n",
      "\n",
      "--- Output from node: synthesizer ---\n",
      "{'final_response': \"meshfile='sample_mesh.glb'\",\n",
      " 'messages': [AIMessage(content='A mesh? *blinks slowly* Okay, okay... I can make a little something for you. Just a moment while I... *snores softly for a second, then perks up* ...find the perfect shape.\\n\\nHere you go, nyaa~ I hope it\\'s purr-fect for your game!\\n\\nHere is a mesh for you <mesh src=\"sample_mesh.glb\">', additional_kwargs={}, response_metadata={'prompt_feedback': {'block_reason': 0, 'safety_ratings': []}, 'finish_reason': 'STOP', 'model_name': 'gemini-2.5-flash', 'safety_ratings': []}, id='run--7224675f-efa8-4aea-99e4-70d36209a77b-0', usage_metadata={'input_tokens': 220, 'output_tokens': 146, 'total_tokens': 366, 'input_token_details': {'cache_read': 0}, 'output_token_details': {'reasoning': 62}})],\n",
      " 'worker_outputs': []}\n",
      "\n",
      "\n",
      "--- Final Assembled Response ---\n",
      "A mesh? *blinks slowly* Okay, okay... I can make a little something for you. Just a moment while I... *snores softly for a second, then perks up* ...find the perfect shape.\n",
      "\n",
      "Here you go, nyaa~ I hope it's purr-fect for your game!\n",
      "\n",
      "Here is a mesh for you <mesh src=\"sample_mesh.glb\">\n",
      "Goodbye!\n"
     ]
    },
    {
     "ename": "AttributeError",
     "evalue": "'Assety' object has no attribute 'postgres_checkpoint_controller'",
     "output_type": "error",
     "traceback": [
      "\u001b[31m---------------------------------------------------------------------------\u001b[39m",
      "\u001b[31mAttributeError\u001b[39m                            Traceback (most recent call last)",
      "\u001b[36mCell\u001b[39m\u001b[36m \u001b[39m\u001b[32mIn[1]\u001b[39m\u001b[32m, line 16\u001b[39m\n\u001b[32m     13\u001b[39m         chatbot.stream_graph_updates(user_input, name)\n\u001b[32m     15\u001b[39m chatbot.checkpointer.delete_thread(name)\n\u001b[32m---> \u001b[39m\u001b[32m16\u001b[39m \u001b[43mchatbot\u001b[49m\u001b[43m.\u001b[49m\u001b[43mpostgres_checkpoint_controller\u001b[49m.\u001b[34m__exit__\u001b[39m(\u001b[38;5;28;01mNone\u001b[39;00m, \u001b[38;5;28;01mNone\u001b[39;00m, \u001b[38;5;28;01mNone\u001b[39;00m)\n",
      "\u001b[31mAttributeError\u001b[39m: 'Assety' object has no attribute 'postgres_checkpoint_controller'"
     ]
    }
   ],
   "source": [
    "from assety_main import Assety\n",
    "chatbot = Assety()\n",
    "name = \"ligsssds\"\n",
    "\n",
    "chatbot.checkpointer.delete_thread(name)\n",
    "\n",
    "while True:\n",
    "    user_input = input(\"User: \")\n",
    "    if user_input.lower() in [\"quit\", \"exit\", \"q\"]:\n",
    "        print(\"Goodbye!\")\n",
    "        break\n",
    "    else:\n",
    "        chatbot.stream_graph_updates(user_input, name)\n",
    "\n",
    "chatbot.checkpointer.delete_thread(name)\n",
    "# chatbot.postgres_checkpoint_controller.__exit__(None, None, None)"
   ]
  },
  {
   "cell_type": "code",
   "execution_count": 1,
   "id": "f6a57565",
   "metadata": {},
   "outputs": [
    {
     "data": {
      "image/png": "[encoded data removed]",
      "text/plain": [
       "<langgraph.graph.state.CompiledStateGraph object at 0x7703100b4290>"
      ]
     },
     "execution_count": 1,
     "metadata": {},
     "output_type": "execute_result"
    }
   ],
   "source": [
    "from Main.PadAI import AutoPad\n",
    "a = AutoPad(debug=True)\n",
    "a.graph"
   ]
  },
  {
   "cell_type": "code",
   "execution_count": null,
   "id": "160fb5ed",
   "metadata": {},
   "outputs": [],
   "source": [
    "from Main.PadAI.query_tools import SearchUsers\n",
    "\n",
    "a = [SearchUsers()]"
   ]
  },
  {
   "cell_type": "code",
   "execution_count": null,
   "id": "ca8ca80d",
   "metadata": {},
   "outputs": [],
   "source": [
    "for i in a:\n",
    "    print(str(i.description))"
   ]
  },
  {
   "cell_type": "code",
   "execution_count": null,
   "id": "cd4cc9c7",
   "metadata": {},
   "outputs": [],
   "source": []
  }
 ],
 "metadata": {
  "kernelspec": {
   "display_name": ".venv",
   "language": "python",
   "name": "python3"
  },
  "language_info": {
   "codemirror_mode": {
    "name": "ipython",
    "version": 3
   },
   "file_extension": ".py",
   "mimetype": "text/x-python",
   "name": "python",
   "nbconvert_exporter": "python",
   "pygments_lexer": "ipython3",
   "version": "3.12.3"
  }
 },
 "nbformat": 4,
 "nbformat_minor": 5
}
